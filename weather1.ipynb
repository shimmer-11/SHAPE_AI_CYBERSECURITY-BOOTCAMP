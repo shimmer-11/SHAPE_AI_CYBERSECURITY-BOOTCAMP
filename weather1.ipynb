{
  "nbformat": 4,
  "nbformat_minor": 0,
  "metadata": {
    "colab": {
      "name": "weather.ipynb",
      "provenance": [],
      "collapsed_sections": [],
      "include_colab_link": true
    },
    "kernelspec": {
      "name": "python3",
      "display_name": "Python 3"
    },
    "language_info": {
      "name": "python"
    }
  },
  "cells": [
    {
      "cell_type": "markdown",
      "metadata": {
        "id": "view-in-github",
        "colab_type": "text"
      },
      "source": [
        "<a href=\"https://colab.research.google.com/github/shimmer-11/SHAPE_AI_CYBERSECURITY-BOOTCAMP/blob/main/weather.ipynb\" target=\"_parent\"><img src=\"https://colab.research.google.com/assets/colab-badge.svg\" alt=\"Open In Colab\"/></a>"
      ]
    },
    {
      "cell_type": "code",
      "metadata": {
        "colab": {
          "base_uri": "https://localhost:8080/"
        },
        "id": "qGp9GA-iKCQM",
        "outputId": "fdd56deb-f3f8-479e-b304-8abafd8d953b"
      },
      "source": [
        "import requests\n",
        "#import os\n",
        "from datetime import datetime\n",
        "\n",
        "api_key = '27a1602ae25f5a2ee425c71cddfc25af'\n",
        "location = input(\"Enter the city name: \")\n",
        "\n",
        "complete_api_link = \"https://api.openweathermap.org/data/2.5/weather?q=\"+location+\"&appid=\"+api_key\n",
        "api_link = requests.get(complete_api_link)\n",
        "api_data = api_link.json()\n",
        "\n",
        "#create variables to store and display data\n",
        "temp_city = ((api_data['main']['temp']) - 273.15)\n",
        "weather_desc = api_data['weather'][0]['description']\n",
        "hmdt = api_data['main']['humidity']\n",
        "wind_spd = api_data['wind']['speed']\n",
        "date_time = datetime.now().strftime(\"%d %b %Y | %I:%M:%S %p\")\n",
        "\n",
        "print (\"xxxxxxxxxxxxxxxxxxxxxxxxxxxxxxxxxxxxxxxxxxxxxxxxxxxxxxxxxxxxxxxxx\")\n",
        "print (\"Weather Stats for - {}  || {}\".format(location.upper(), date_time))\n",
        "print (\"xxxxxxxxxxxxxxxxxxxxxxxxxxxxxxxxxxxxxxxxxxxxxxxxxxxxxxxxxxxxxxxxx\")\n",
        "\n",
        "print (\"Current temperature is: {:.2f} deg C\".format(temp_city))\n",
        "print(\"------------------------------------------------------------------\")\n",
        "print (\"Current weather desc  :\",weather_desc)\n",
        "print(\"------------------------------------------------------------------\")\n",
        "print (\"Current Humidity      :\",hmdt, '%')\n",
        "print(\"------------------------------------------------------------------\")\n",
        "print (\"Current wind speed    :\",wind_spd ,'kmph')\n"
      ],
      "execution_count": null,
      "outputs": [
        {
          "output_type": "stream",
          "text": [
            "Enter the city name: india\n",
            "xxxxxxxxxxxxxxxxxxxxxxxxxxxxxxxxxxxxxxxxxxxxxxxxxxxxxxxxxxxxxxxxx\n",
            "Weather Stats for - INDIA  || 22 Jun 2021 | 09:45:04 PM\n",
            "xxxxxxxxxxxxxxxxxxxxxxxxxxxxxxxxxxxxxxxxxxxxxxxxxxxxxxxxxxxxxxxxx\n",
            "Current temperature is: 15.02 deg C\n",
            "------------------------------------------------------------------\n",
            "Current weather desc  : few clouds\n",
            "------------------------------------------------------------------\n",
            "Current Humidity      : 97 %\n",
            "------------------------------------------------------------------\n",
            "Current wind speed    : 0.57 kmph\n"
          ],
          "name": "stdout"
        }
      ]
    },
    {
      "cell_type": "code",
      "metadata": {
        "id": "auFxv_HFmQox"
      },
      "source": [
        "\n",
        "with open('weather.text','wb') as f:\n",
        "  f.write(api_link.content)"
      ],
      "execution_count": null,
      "outputs": []
    }
  ]
}
